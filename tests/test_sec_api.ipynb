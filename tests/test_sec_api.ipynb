{
 "cells": [
  {
   "cell_type": "code",
   "execution_count": 3,
   "id": "80644c60",
   "metadata": {},
   "outputs": [],
   "source": [
    "#pip install sec-api"
   ]
  },
  {
   "cell_type": "code",
   "execution_count": null,
   "id": "9809d1cd",
   "metadata": {},
   "outputs": [],
   "source": [
    "#https://pypi.org/project/sec-api/"
   ]
  },
  {
   "cell_type": "code",
   "execution_count": 4,
   "id": "98a2d661",
   "metadata": {},
   "outputs": [],
   "source": [
    "from sec_api import QueryApi"
   ]
  },
  {
   "cell_type": "code",
   "execution_count": 5,
   "id": "b441891b",
   "metadata": {},
   "outputs": [],
   "source": [
    "API_key = \"d5a2f6c2c4a87a4aeda3d33a31f393a44511367688293bee3aff3b7679a94603\"\n",
    "queryApi = QueryApi(api_key=API_key)"
   ]
  },
  {
   "cell_type": "code",
   "execution_count": null,
   "id": "bb1355d1",
   "metadata": {},
   "outputs": [],
   "source": []
  }
 ],
 "metadata": {
  "kernelspec": {
   "display_name": "Python 3 (ipykernel)",
   "language": "python",
   "name": "python3"
  },
  "language_info": {
   "codemirror_mode": {
    "name": "ipython",
    "version": 3
   },
   "file_extension": ".py",
   "mimetype": "text/x-python",
   "name": "python",
   "nbconvert_exporter": "python",
   "pygments_lexer": "ipython3",
   "version": "3.9.13"
  }
 },
 "nbformat": 4,
 "nbformat_minor": 5
}
