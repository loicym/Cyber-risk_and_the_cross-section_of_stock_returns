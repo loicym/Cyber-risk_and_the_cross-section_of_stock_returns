{
 "cells": [
  {
   "cell_type": "markdown",
   "id": "87a8badf",
   "metadata": {},
   "source": [
    "# Test SEC crawling"
   ]
  },
  {
   "cell_type": "code",
   "execution_count": 14,
   "id": "20baaf5f",
   "metadata": {},
   "outputs": [
    {
     "name": "stdout",
     "output_type": "stream",
     "text": [
      "Note: you may need to restart the kernel to use updated packages.\n"
     ]
    }
   ],
   "source": [
    "pip install requests_random_user_agent -q"
   ]
  },
  {
   "cell_type": "code",
   "execution_count": 20,
   "id": "61e0ce59",
   "metadata": {},
   "outputs": [],
   "source": [
    "import pandas as pd\n",
    "import numpy as np\n",
    "import re\n",
    "import requests\n",
    "import requests_random_user_agent\n",
    "from tqdm.notebook import tqdm\n",
    "import dask"
   ]
  },
  {
   "cell_type": "code",
   "execution_count": 10,
   "id": "038f7b3c",
   "metadata": {},
   "outputs": [],
   "source": [
    "#function that finds the CIK corresponding to a company's ticker, can return several at once\n",
    "def get_CIK(Tickers):\n",
    "    url = 'http://www.sec.gov/cgi-bin/browse-edgar?CIK={}&Find=Search&owner=exclude&action=getcompany'\n",
    "    CIK_RE = re.compile(r'.*CIK=(\\d{10}).*')    \n",
    "    cik = {}\n",
    "    for ticker in Tickers:\n",
    "        r = requests.get(url.format(ticker), stream = True)\n",
    "        #find all CIKs in the url page (it should be the same CIK several times)\n",
    "        results = CIK_RE.findall(r.text)\n",
    "        #if we find the CIK we can return a single instance of it\n",
    "        if len(results):\n",
    "            cik[ticker] = results[0]\n",
    "        else:\n",
    "            cik[ticker] = 'CIK NOT FOUND'\n",
    "    return(cik)"
   ]
  },
  {
   "cell_type": "code",
   "execution_count": 11,
   "id": "44b95eab",
   "metadata": {},
   "outputs": [
    {
     "data": {
      "text/plain": [
       "{'DIS': '0001744489', 'MSFT': '0000789019', 'AAPL': '0000320193'}"
      ]
     },
     "execution_count": 11,
     "metadata": {},
     "output_type": "execute_result"
    }
   ],
   "source": [
    "get_CIK(['DIS','MSFT','AAPL'])"
   ]
  },
  {
   "cell_type": "code",
   "execution_count": 12,
   "id": "fa0f6ec6",
   "metadata": {},
   "outputs": [],
   "source": [
    "#function that finds the url of a specified file for a given company and a given year\n",
    "#can return several at once\n",
    "def get_url(tck, Year, FILE, cik = None, show = True):\n",
    "    #find CIK of all tickers\n",
    "    if(type(cik) is not np.ndarray):\n",
    "        CIKs = get_CIK(tck)\n",
    "    else:\n",
    "        CIKs = dict(zip(tck, cik))\n",
    "    Tickers = tck\n",
    "    \n",
    "    #10-K should be filled in q4, but sometimes filled in other quarters\n",
    "    #start looking in 4 quarter and move to q1, then q2 and q3\n",
    "    url_found = {}\n",
    "    nb_iter = np.shape(Tickers)[0]*3 if Year == '2017' else np.shape(Tickers)[0]*4\n",
    "    if(show):\n",
    "        pbar = tqdm(total=nb_iter)\n",
    "\n",
    "    for i in (4,1,2,3):\n",
    "        if(Year == '2017' and i == 3):\n",
    "            continue\n",
    "        url = 'https://www.sec.gov/Archives/edgar/full-index/%s/QTR%s/master.idx'%(Year,i)\n",
    "        response = requests.get(url)\n",
    "\n",
    "        edgar_data = 'edgar/data/'\n",
    "        \n",
    "        for ticker in Tickers:\n",
    "            CIK = CIKs[ticker]\n",
    "\n",
    "            #check if CIK was found\n",
    "            if(CIK == 'CIK NOT FOUND' or CIK == 'TICKER NOT FOUND'):\n",
    "                url_found[ticker] = CIK\n",
    "                continue\n",
    "            #get rid of zeros in the front\n",
    "            CIK = str(int(CIK))\n",
    "\n",
    "            element2 = None\n",
    "            element3 = None\n",
    "            element4 = None\n",
    "\n",
    "            ###Go through each line of the master index file and find given CIK \n",
    "            #and FILE and extract the text file path\n",
    "            for line in response.text.split():        \n",
    "                #when looking for proxy statment, skip these files (not the right ones)\n",
    "                if (FILE == '14A' and 'PX14A6G' in line or 'DEFA14A' in line \n",
    "                    or 'DEFC14A' in line or 'DEFM14A' in line or 'DEFN14A' in line\n",
    "                    or 'DEFR14A' in line or 'DFAN14A' in line or 'DFRN14A' in line \n",
    "                    or 'PRE' in line or 'PRRN14A' in line or 'PX14A6G' in line\n",
    "                    or 'PX14A6N' in line or 'PX14A6G' in line or 'DEFM14A' in line\n",
    "                    or 'DEFC14A' in line or 'Schedule' in line):\n",
    "                       continue\n",
    "                \n",
    "                #find path\n",
    "                if CIK in line and FILE in line:\n",
    "                    for element in line.split(' '):\n",
    "                        if edgar_data in element:\n",
    "                            element2 = element.split('|')\n",
    "                            for element3 in element2:\n",
    "                                if edgar_data in element3:\n",
    "                                    element4 = element3\n",
    "\n",
    "            # The path of the FILE for the company \n",
    "            if (element4 != None and i == 4):\n",
    "                url_found[ticker] = 'https://www.sec.gov/Archives/' + element4\n",
    "            if (element4 == None and i == 4):\n",
    "                url_found[ticker] = 'URL NOT FOUND'\n",
    "            if (element4 != None and i != 4):\n",
    "                if (url_found[ticker] == 'URL NOT FOUND'):\n",
    "                    url_found[ticker] = 'https://www.sec.gov/Archives/' + element4\n",
    "            if(show):\n",
    "                pbar.update(n=1)\n",
    "                \n",
    "    return url_found"
   ]
  },
  {
   "cell_type": "code",
   "execution_count": 25,
   "id": "276c1333",
   "metadata": {},
   "outputs": [
    {
     "data": {
      "application/vnd.jupyter.widget-view+json": {
       "model_id": "4e2a11137c2741f990436be2e04a9699",
       "version_major": 2,
       "version_minor": 0
      },
      "text/plain": [
       "  0%|          | 0/16 [00:00<?, ?it/s]"
      ]
     },
     "metadata": {},
     "output_type": "display_data"
    },
    {
     "data": {
      "text/plain": [
       "{'AAPL': 'https://www.sec.gov/Archives/edgar/data/320193/0000320193-22-000108.txt',\n",
       " 'MSFT': 'https://www.sec.gov/Archives/edgar/data/789019/0001564590-22-026876.txt',\n",
       " 'META': 'https://www.sec.gov/Archives/edgar/data/1326801/0001326801-22-000018.txt',\n",
       " 'COIN': 'https://www.sec.gov/Archives/edgar/data/1679788/0001679788-22-000031.txt'}"
      ]
     },
     "execution_count": 25,
     "metadata": {},
     "output_type": "execute_result"
    }
   ],
   "source": [
    "get_url(['AAPL', 'MSFT', 'META', 'COIN'], '2022', '10-K')"
   ]
  },
  {
   "cell_type": "code",
   "execution_count": null,
   "id": "9acc6d8d",
   "metadata": {},
   "outputs": [],
   "source": []
  }
 ],
 "metadata": {
  "kernelspec": {
   "display_name": "Python 3 (ipykernel)",
   "language": "python",
   "name": "python3"
  },
  "language_info": {
   "codemirror_mode": {
    "name": "ipython",
    "version": 3
   },
   "file_extension": ".py",
   "mimetype": "text/x-python",
   "name": "python",
   "nbconvert_exporter": "python",
   "pygments_lexer": "ipython3",
   "version": "3.9.13"
  }
 },
 "nbformat": 4,
 "nbformat_minor": 5
}
