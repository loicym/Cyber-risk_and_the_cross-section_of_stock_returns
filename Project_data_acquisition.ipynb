{
 "cells": [
  {
   "cell_type": "markdown",
   "id": "96bf8c2b",
   "metadata": {},
   "source": [
    "# Data Acquisition"
   ]
  },
  {
   "cell_type": "code",
   "execution_count": 1,
   "id": "54c9a1ae",
   "metadata": {},
   "outputs": [],
   "source": [
    "%load_ext autoreload\n",
    "%autoreload 2"
   ]
  },
  {
   "cell_type": "code",
   "execution_count": 2,
   "id": "e5566ce2",
   "metadata": {},
   "outputs": [
    {
     "data": {
      "text/plain": [
       "True"
      ]
     },
     "execution_count": 2,
     "metadata": {},
     "output_type": "execute_result"
    }
   ],
   "source": [
    "import nltk \n",
    "nltk.download('wordnet', quiet = True)\n",
    "nltk.download('stopwords', quiet = True)\n",
    "nltk.download('punkt', quiet = True)\n",
    "nltk.download('words', quiet = True)"
   ]
  },
  {
   "cell_type": "code",
   "execution_count": 3,
   "id": "167d9cc4",
   "metadata": {},
   "outputs": [],
   "source": [
    "import pandas as pd\n",
    "import numpy as np\n",
    "import wrds\n",
    "import glob\n",
    "from tqdm.notebook import tqdm\n",
    "from tqdm.dask import TqdmCallback\n",
    "import matplotlib.pyplot as plt\n",
    "from sklearn.metrics.pairwise import cosine_similarity\n",
    "import statsmodels.api as sm\n",
    "from warnings import simplefilter\n",
    "simplefilter(action=\"ignore\", category=pd.errors.PerformanceWarning)\n",
    "from waybackpy import WaybackMachineCDXServerAPI"
   ]
  },
  {
   "cell_type": "code",
   "execution_count": 4,
   "id": "99e95ad9",
   "metadata": {},
   "outputs": [],
   "source": [
    "#import functions from functions.py\n",
    "from function_definitions import *"
   ]
  },
  {
   "cell_type": "code",
   "execution_count": 62,
   "id": "1da2325b",
   "metadata": {},
   "outputs": [
    {
     "name": "stdout",
     "output_type": "stream",
     "text": [
      "Loading library list...\n",
      "Done\n"
     ]
    }
   ],
   "source": [
    "#connect to WRDS\n",
    "db = wrds.Connection(wrds_username = 'danielceleny')\n",
    "#db.create_pgpass_file()"
   ]
  },
  {
   "cell_type": "markdown",
   "id": "9a9ae2b1",
   "metadata": {},
   "source": [
    "## Get a list of all usable stock names"
   ]
  },
  {
   "cell_type": "code",
   "execution_count": 108,
   "id": "94d8b292",
   "metadata": {},
   "outputs": [
    {
     "name": "stdout",
     "output_type": "stream",
     "text": [
      "Number of available time series:  23688\n"
     ]
    },
    {
     "data": {
      "text/html": [
       "<div>\n",
       "<style scoped>\n",
       "    .dataframe tbody tr th:only-of-type {\n",
       "        vertical-align: middle;\n",
       "    }\n",
       "\n",
       "    .dataframe tbody tr th {\n",
       "        vertical-align: top;\n",
       "    }\n",
       "\n",
       "    .dataframe thead th {\n",
       "        text-align: right;\n",
       "    }\n",
       "</style>\n",
       "<table border=\"1\" class=\"dataframe\">\n",
       "  <thead>\n",
       "    <tr style=\"text-align: right;\">\n",
       "      <th></th>\n",
       "      <th>ticker</th>\n",
       "      <th>comnam</th>\n",
       "      <th>permco</th>\n",
       "      <th>st_date</th>\n",
       "      <th>end_date</th>\n",
       "    </tr>\n",
       "  </thead>\n",
       "  <tbody>\n",
       "    <tr>\n",
       "      <th>0</th>\n",
       "      <td>TSLA</td>\n",
       "      <td>TESLA INC</td>\n",
       "      <td>53453.0</td>\n",
       "      <td>2010-06-29</td>\n",
       "      <td>2022-12-30</td>\n",
       "    </tr>\n",
       "    <tr>\n",
       "      <th>1</th>\n",
       "      <td>ZH</td>\n",
       "      <td>ZHIHU INC</td>\n",
       "      <td>58050.0</td>\n",
       "      <td>2021-03-26</td>\n",
       "      <td>2022-12-30</td>\n",
       "    </tr>\n",
       "    <tr>\n",
       "      <th>2</th>\n",
       "      <td>QFTA</td>\n",
       "      <td>QUANTUM FINTECH ACQ CORP</td>\n",
       "      <td>57870.0</td>\n",
       "      <td>2021-03-10</td>\n",
       "      <td>2022-12-30</td>\n",
       "    </tr>\n",
       "    <tr>\n",
       "      <th>3</th>\n",
       "      <td>STRC</td>\n",
       "      <td>SARCOS TECH &amp; ROBOTICS CORP</td>\n",
       "      <td>57692.0</td>\n",
       "      <td>2021-03-08</td>\n",
       "      <td>2022-12-30</td>\n",
       "    </tr>\n",
       "    <tr>\n",
       "      <th>4</th>\n",
       "      <td>SEMR</td>\n",
       "      <td>SEMRUSH HOLDINGS INC</td>\n",
       "      <td>58043.0</td>\n",
       "      <td>2021-03-25</td>\n",
       "      <td>2022-12-30</td>\n",
       "    </tr>\n",
       "  </tbody>\n",
       "</table>\n",
       "</div>"
      ],
      "text/plain": [
       "  ticker                       comnam   permco    st_date   end_date\n",
       "0   TSLA                    TESLA INC  53453.0 2010-06-29 2022-12-30\n",
       "1     ZH                    ZHIHU INC  58050.0 2021-03-26 2022-12-30\n",
       "2   QFTA     QUANTUM FINTECH ACQ CORP  57870.0 2021-03-10 2022-12-30\n",
       "3   STRC  SARCOS TECH & ROBOTICS CORP  57692.0 2021-03-08 2022-12-30\n",
       "4   SEMR         SEMRUSH HOLDINGS INC  58043.0 2021-03-25 2022-12-30"
      ]
     },
     "execution_count": 108,
     "metadata": {},
     "output_type": "execute_result"
    }
   ],
   "source": [
    "#import table about all available data series on wrds\n",
    "stocknames = db.get_table(library='crsp', table = 'stocknames')\n",
    "#change dates to datetime objects\n",
    "stocknames.end_date = pd.to_datetime(stocknames.end_date)\n",
    "stocknames.st_date = pd.to_datetime(stocknames.st_date)\n",
    "#keep only their most recent ticker and Name\n",
    "stocknames = stocknames[stocknames.nameenddt == stocknames.end_date]\n",
    "stocknames = stocknames[['ticker','comnam','permco','st_date','end_date']]\n",
    "#get rid of duplicate ticker and permco stocks\n",
    "stocknames = stocknames[stocknames.ticker.notnull()]\n",
    "stocknames.sort_values('end_date', ascending = False, inplace = True)\n",
    "to_drop = []\n",
    "#keep the observation that has the most recent observation\n",
    "#if there are several, keep one one with the oldest observation\n",
    "duplicated_tickers = stocknames[stocknames.duplicated(subset = 'ticker')].ticker.unique()\n",
    "for ticker in duplicated_tickers:\n",
    "    sn = stocknames[stocknames.ticker == ticker]\n",
    "    sn = sn[sn.end_date == sn.end_date.max()]\n",
    "    #if several have recent observations keep the one with the furthest start date\n",
    "    if len(sn) > 1:\n",
    "        sn = sn[sn.st_date == sn.st_date.min()]\n",
    "    to_keep = sn.index.values[0]\n",
    "    indexes = stocknames[stocknames.ticker == ticker].index.values\n",
    "    to_drop.append(indexes[~np.isin(indexes, to_keep)])\n",
    "duplicated_permcos = stocknames[stocknames.duplicated(subset = 'permco')].permco.values\n",
    "for permco in duplicated_permcos:\n",
    "    sn = stocknames[stocknames.permco == permco]\n",
    "    sn = sn[sn.end_date == sn.end_date.max()]\n",
    "    if len(sn) > 1:\n",
    "        sn = sn[sn.st_date == sn.st_date.min()]\n",
    "    to_keep = sn.index.values[0]\n",
    "    indexes = stocknames[stocknames.permco == permco].index.values\n",
    "    to_drop.append(indexes[~np.isin(indexes, to_keep)])\n",
    "\n",
    "to_drop = np.concatenate(to_drop).ravel()\n",
    "stocknames = stocknames.drop(labels = to_drop)\n",
    "stocknames.reset_index(inplace = True, drop = True)\n",
    "\n",
    "print(\"Number of available time series: \", len(stocknames))\n",
    "stocknames.head()"
   ]
  },
  {
   "cell_type": "markdown",
   "id": "18594c7a",
   "metadata": {},
   "source": [
    "## Find the CIK for all stocks"
   ]
  },
  {
   "cell_type": "code",
   "execution_count": 109,
   "id": "027ee7c3",
   "metadata": {},
   "outputs": [
    {
     "data": {
      "text/html": [
       "<div>\n",
       "<style scoped>\n",
       "    .dataframe tbody tr th:only-of-type {\n",
       "        vertical-align: middle;\n",
       "    }\n",
       "\n",
       "    .dataframe tbody tr th {\n",
       "        vertical-align: top;\n",
       "    }\n",
       "\n",
       "    .dataframe thead th {\n",
       "        text-align: right;\n",
       "    }\n",
       "</style>\n",
       "<table border=\"1\" class=\"dataframe\">\n",
       "  <thead>\n",
       "    <tr style=\"text-align: right;\">\n",
       "      <th></th>\n",
       "      <th>ticker</th>\n",
       "      <th>CIK</th>\n",
       "    </tr>\n",
       "  </thead>\n",
       "  <tbody>\n",
       "    <tr>\n",
       "      <th>0</th>\n",
       "      <td>AAPL</td>\n",
       "      <td>320193</td>\n",
       "    </tr>\n",
       "    <tr>\n",
       "      <th>1</th>\n",
       "      <td>MSFT</td>\n",
       "      <td>789019</td>\n",
       "    </tr>\n",
       "    <tr>\n",
       "      <th>2</th>\n",
       "      <td>BRK-B</td>\n",
       "      <td>1067983</td>\n",
       "    </tr>\n",
       "    <tr>\n",
       "      <th>3</th>\n",
       "      <td>UNH</td>\n",
       "      <td>731766</td>\n",
       "    </tr>\n",
       "    <tr>\n",
       "      <th>4</th>\n",
       "      <td>JNJ</td>\n",
       "      <td>200406</td>\n",
       "    </tr>\n",
       "    <tr>\n",
       "      <th>...</th>\n",
       "      <td>...</td>\n",
       "      <td>...</td>\n",
       "    </tr>\n",
       "    <tr>\n",
       "      <th>12079</th>\n",
       "      <td>HCICU</td>\n",
       "      <td>1829455</td>\n",
       "    </tr>\n",
       "    <tr>\n",
       "      <th>12080</th>\n",
       "      <td>HCICW</td>\n",
       "      <td>1829455</td>\n",
       "    </tr>\n",
       "    <tr>\n",
       "      <th>12081</th>\n",
       "      <td>HAWLM</td>\n",
       "      <td>46207</td>\n",
       "    </tr>\n",
       "    <tr>\n",
       "      <th>12082</th>\n",
       "      <td>HBANM</td>\n",
       "      <td>49196</td>\n",
       "    </tr>\n",
       "    <tr>\n",
       "      <th>12083</th>\n",
       "      <td>HBANP</td>\n",
       "      <td>49196</td>\n",
       "    </tr>\n",
       "  </tbody>\n",
       "</table>\n",
       "<p>12084 rows × 2 columns</p>\n",
       "</div>"
      ],
      "text/plain": [
       "      ticker      CIK\n",
       "0       AAPL   320193\n",
       "1       MSFT   789019\n",
       "2      BRK-B  1067983\n",
       "3        UNH   731766\n",
       "4        JNJ   200406\n",
       "...      ...      ...\n",
       "12079  HCICU  1829455\n",
       "12080  HCICW  1829455\n",
       "12081  HAWLM    46207\n",
       "12082  HBANM    49196\n",
       "12083  HBANP    49196\n",
       "\n",
       "[12084 rows x 2 columns]"
      ]
     },
     "execution_count": 109,
     "metadata": {},
     "output_type": "execute_result"
    }
   ],
   "source": [
    "#read in the txt file linking tickers to CIKs\n",
    "CIK = pd.read_csv('../data/ticker_to_CIK.txt', delimiter = \"\\t\", header = None, names = ['ticker', 'CIK'], na_filter = False)\n",
    "CIK.ticker = CIK.ticker.str.upper()\n",
    "CIK"
   ]
  },
  {
   "cell_type": "code",
   "execution_count": 110,
   "id": "f38ffc19",
   "metadata": {},
   "outputs": [
    {
     "name": "stdout",
     "output_type": "stream",
     "text": [
      "Number of time series with an identified CIK:  7077\n"
     ]
    },
    {
     "data": {
      "text/html": [
       "<div>\n",
       "<style scoped>\n",
       "    .dataframe tbody tr th:only-of-type {\n",
       "        vertical-align: middle;\n",
       "    }\n",
       "\n",
       "    .dataframe tbody tr th {\n",
       "        vertical-align: top;\n",
       "    }\n",
       "\n",
       "    .dataframe thead th {\n",
       "        text-align: right;\n",
       "    }\n",
       "</style>\n",
       "<table border=\"1\" class=\"dataframe\">\n",
       "  <thead>\n",
       "    <tr style=\"text-align: right;\">\n",
       "      <th></th>\n",
       "      <th>ticker</th>\n",
       "      <th>comnam</th>\n",
       "      <th>permco</th>\n",
       "      <th>st_date</th>\n",
       "      <th>end_date</th>\n",
       "      <th>CIK</th>\n",
       "    </tr>\n",
       "  </thead>\n",
       "  <tbody>\n",
       "    <tr>\n",
       "      <th>0</th>\n",
       "      <td>TSLA</td>\n",
       "      <td>TESLA INC</td>\n",
       "      <td>53453.0</td>\n",
       "      <td>2010-06-29</td>\n",
       "      <td>2022-12-30</td>\n",
       "      <td>1318605.0</td>\n",
       "    </tr>\n",
       "    <tr>\n",
       "      <th>1</th>\n",
       "      <td>ZH</td>\n",
       "      <td>ZHIHU INC</td>\n",
       "      <td>58050.0</td>\n",
       "      <td>2021-03-26</td>\n",
       "      <td>2022-12-30</td>\n",
       "      <td>1835724.0</td>\n",
       "    </tr>\n",
       "    <tr>\n",
       "      <th>2</th>\n",
       "      <td>QFTA</td>\n",
       "      <td>QUANTUM FINTECH ACQ CORP</td>\n",
       "      <td>57870.0</td>\n",
       "      <td>2021-03-10</td>\n",
       "      <td>2022-12-30</td>\n",
       "      <td>1830795.0</td>\n",
       "    </tr>\n",
       "    <tr>\n",
       "      <th>3</th>\n",
       "      <td>STRC</td>\n",
       "      <td>SARCOS TECH &amp; ROBOTICS CORP</td>\n",
       "      <td>57692.0</td>\n",
       "      <td>2021-03-08</td>\n",
       "      <td>2022-12-30</td>\n",
       "      <td>1826681.0</td>\n",
       "    </tr>\n",
       "    <tr>\n",
       "      <th>4</th>\n",
       "      <td>SEMR</td>\n",
       "      <td>SEMRUSH HOLDINGS INC</td>\n",
       "      <td>58043.0</td>\n",
       "      <td>2021-03-25</td>\n",
       "      <td>2022-12-30</td>\n",
       "      <td>1831840.0</td>\n",
       "    </tr>\n",
       "  </tbody>\n",
       "</table>\n",
       "</div>"
      ],
      "text/plain": [
       "  ticker                       comnam   permco    st_date   end_date  \\\n",
       "0   TSLA                    TESLA INC  53453.0 2010-06-29 2022-12-30   \n",
       "1     ZH                    ZHIHU INC  58050.0 2021-03-26 2022-12-30   \n",
       "2   QFTA     QUANTUM FINTECH ACQ CORP  57870.0 2021-03-10 2022-12-30   \n",
       "3   STRC  SARCOS TECH & ROBOTICS CORP  57692.0 2021-03-08 2022-12-30   \n",
       "4   SEMR         SEMRUSH HOLDINGS INC  58043.0 2021-03-25 2022-12-30   \n",
       "\n",
       "         CIK  \n",
       "0  1318605.0  \n",
       "1  1835724.0  \n",
       "2  1830795.0  \n",
       "3  1826681.0  \n",
       "4  1831840.0  "
      ]
     },
     "execution_count": 110,
     "metadata": {},
     "output_type": "execute_result"
    }
   ],
   "source": [
    "#stocknames = stocknames.set_index('ticker')\n",
    "stocknames = stocknames.merge(CIK, on = 'ticker', how = 'left')\n",
    "#save stocknames as a gzipped csv\n",
    "stocknames.to_csv(\"../data/stocknames.csv.gz\", index = False)\n",
    "\n",
    "print(\"Number of time series with an identified CIK: \", len(stocknames[~stocknames.CIK.isnull()]))\n",
    "stocknames.head()"
   ]
  },
  {
   "cell_type": "markdown",
   "id": "9d59c5de",
   "metadata": {},
   "source": [
    "## Download all 10-k urls from the SEC"
   ]
  },
  {
   "cell_type": "code",
   "execution_count": 17,
   "id": "475a18de",
   "metadata": {},
   "outputs": [
    {
     "name": "stdout",
     "output_type": "stream",
     "text": [
      "Done\n"
     ]
    }
   ],
   "source": [
    "#save the urls to all 10-K fillings\n",
    "years = np.arange(2007,2023) # 2007 to 2022\n",
    "#year represents the calendar year during which the statement was filed\n",
    "for year in tqdm(years, leave = False):\n",
    "    get_idx_files(year, \"../data/SEC_idx_files/\", \"10-K\")\n",
    "    \n",
    "print('Done')"
   ]
  },
  {
   "cell_type": "markdown",
   "id": "cddeba01",
   "metadata": {},
   "source": [
    "## Find the urls of the 10-K disclosures for all stocks"
   ]
  },
  {
   "cell_type": "code",
   "execution_count": 6,
   "id": "517bdabc",
   "metadata": {},
   "outputs": [],
   "source": [
    "#read in the previously saved stocknames file\n",
    "stocknames = pd.read_csv(\"../data/stocknames.csv.gz\", na_filter = False)\n",
    "stocknames.end_date = pd.to_datetime(stocknames.end_date)\n",
    "stocknames.st_date = pd.to_datetime(stocknames.st_date)\n",
    "stocknames.CIK = pd.to_numeric(stocknames.CIK, errors = 'coerce')\n",
    "#paths to the previously saved 10-K files\n",
    "files_10k = np.sort(glob.glob(\"../data/SEC_idx_files/10-K/*\"))"
   ]
  },
  {
   "cell_type": "code",
   "execution_count": 112,
   "id": "bf0a8cf5",
   "metadata": {},
   "outputs": [
    {
     "data": {
      "application/vnd.jupyter.widget-view+json": {
       "model_id": "",
       "version_major": 2,
       "version_minor": 0
      },
      "text/plain": [
       "Finding urls for 2007:   0%|          | 0/42870 [00:00<?, ?it/s]"
      ]
     },
     "metadata": {},
     "output_type": "display_data"
    },
    {
     "data": {
      "application/vnd.jupyter.widget-view+json": {
       "model_id": "",
       "version_major": 2,
       "version_minor": 0
      },
      "text/plain": [
       "Finding urls for 2008:   0%|          | 0/43730 [00:00<?, ?it/s]"
      ]
     },
     "metadata": {},
     "output_type": "display_data"
    },
    {
     "data": {
      "application/vnd.jupyter.widget-view+json": {
       "model_id": "",
       "version_major": 2,
       "version_minor": 0
      },
      "text/plain": [
       "Finding urls for 2009:   0%|          | 0/49195 [00:00<?, ?it/s]"
      ]
     },
     "metadata": {},
     "output_type": "display_data"
    },
    {
     "data": {
      "application/vnd.jupyter.widget-view+json": {
       "model_id": "",
       "version_major": 2,
       "version_minor": 0
      },
      "text/plain": [
       "Finding urls for 2010:   0%|          | 0/45825 [00:00<?, ?it/s]"
      ]
     },
     "metadata": {},
     "output_type": "display_data"
    },
    {
     "data": {
      "application/vnd.jupyter.widget-view+json": {
       "model_id": "",
       "version_major": 2,
       "version_minor": 0
      },
      "text/plain": [
       "Finding urls for 2011:   0%|          | 0/44200 [00:00<?, ?it/s]"
      ]
     },
     "metadata": {},
     "output_type": "display_data"
    },
    {
     "data": {
      "application/vnd.jupyter.widget-view+json": {
       "model_id": "",
       "version_major": 2,
       "version_minor": 0
      },
      "text/plain": [
       "Finding urls for 2012:   0%|          | 0/41965 [00:00<?, ?it/s]"
      ]
     },
     "metadata": {},
     "output_type": "display_data"
    },
    {
     "data": {
      "application/vnd.jupyter.widget-view+json": {
       "model_id": "",
       "version_major": 2,
       "version_minor": 0
      },
      "text/plain": [
       "Finding urls for 2013:   0%|          | 0/40525 [00:00<?, ?it/s]"
      ]
     },
     "metadata": {},
     "output_type": "display_data"
    },
    {
     "data": {
      "application/vnd.jupyter.widget-view+json": {
       "model_id": "",
       "version_major": 2,
       "version_minor": 0
      },
      "text/plain": [
       "Finding urls for 2014:   0%|          | 0/40420 [00:00<?, ?it/s]"
      ]
     },
     "metadata": {},
     "output_type": "display_data"
    },
    {
     "data": {
      "application/vnd.jupyter.widget-view+json": {
       "model_id": "",
       "version_major": 2,
       "version_minor": 0
      },
      "text/plain": [
       "Finding urls for 2015:   0%|          | 0/39925 [00:00<?, ?it/s]"
      ]
     },
     "metadata": {},
     "output_type": "display_data"
    },
    {
     "data": {
      "application/vnd.jupyter.widget-view+json": {
       "model_id": "",
       "version_major": 2,
       "version_minor": 0
      },
      "text/plain": [
       "Finding urls for 2016:   0%|          | 0/37945 [00:00<?, ?it/s]"
      ]
     },
     "metadata": {},
     "output_type": "display_data"
    },
    {
     "data": {
      "application/vnd.jupyter.widget-view+json": {
       "model_id": "",
       "version_major": 2,
       "version_minor": 0
      },
      "text/plain": [
       "Finding urls for 2017:   0%|          | 0/36240 [00:00<?, ?it/s]"
      ]
     },
     "metadata": {},
     "output_type": "display_data"
    },
    {
     "data": {
      "application/vnd.jupyter.widget-view+json": {
       "model_id": "",
       "version_major": 2,
       "version_minor": 0
      },
      "text/plain": [
       "Finding urls for 2018:   0%|          | 0/35460 [00:00<?, ?it/s]"
      ]
     },
     "metadata": {},
     "output_type": "display_data"
    },
    {
     "data": {
      "application/vnd.jupyter.widget-view+json": {
       "model_id": "",
       "version_major": 2,
       "version_minor": 0
      },
      "text/plain": [
       "Finding urls for 2019:   0%|          | 0/34615 [00:00<?, ?it/s]"
      ]
     },
     "metadata": {},
     "output_type": "display_data"
    },
    {
     "data": {
      "application/vnd.jupyter.widget-view+json": {
       "model_id": "",
       "version_major": 2,
       "version_minor": 0
      },
      "text/plain": [
       "Finding urls for 2020:   0%|          | 0/33845 [00:00<?, ?it/s]"
      ]
     },
     "metadata": {},
     "output_type": "display_data"
    },
    {
     "data": {
      "application/vnd.jupyter.widget-view+json": {
       "model_id": "",
       "version_major": 2,
       "version_minor": 0
      },
      "text/plain": [
       "Finding urls for 2021:   0%|          | 0/35905 [00:00<?, ?it/s]"
      ]
     },
     "metadata": {},
     "output_type": "display_data"
    },
    {
     "data": {
      "application/vnd.jupyter.widget-view+json": {
       "model_id": "",
       "version_major": 2,
       "version_minor": 0
      },
      "text/plain": [
       "Finding urls for 2022:   0%|          | 0/38960 [00:00<?, ?it/s]"
      ]
     },
     "metadata": {},
     "output_type": "display_data"
    },
    {
     "name": "stdout",
     "output_type": "stream",
     "text": [
      "Done\n"
     ]
    }
   ],
   "source": [
    "#find the url of the 10-K statement corresponding to each ticker in the dataset\n",
    "years = np.arange(2007,2023) # 2007 to 2022\n",
    "for file, year in zip(files_10k, years):\n",
    "    with open(file, \"r\") as f:\n",
    "        tenKs = f.read()\n",
    "    \n",
    "    lines = tenKs.split('\\n')\n",
    "    allpromises = []\n",
    "    \n",
    "    for line in lines[:-1]:\n",
    "        allpromises.append(get_url(line))\n",
    "    \n",
    "    with TqdmCallback(desc = 'Finding urls for {}'.format(year), leave = False):\n",
    "        temp = dask.compute(allpromises)\n",
    "    \n",
    "    #merge the resulting dictionnaries into one\n",
    "    temp = {key: val for dict_ in temp[0] for key, val in dict_.items()}\n",
    "    temp_df = pd.DataFrame(temp).T.reset_index()\n",
    "    temp_df.columns = ['CIK', 'url_{}'.format(year), 'filling_date_{}'.format(year), 'comnam']\n",
    "    temp_df.CIK = temp_df.CIK.astype(int)\n",
    "    #merge the urls and filling dates onto the stocknames dataframe\n",
    "    #merge on CIK when CIK is available\n",
    "    stocknames = stocknames.merge(temp_df[['CIK', 'url_{}'.format(year), 'filling_date_{}'.format(year)]],\n",
    "                                  on = 'CIK', how = 'left')\n",
    "    #merge on company name when CIK is not available\n",
    "    stocknames = stocknames.merge(temp_df[~np.isin(temp_df.CIK,stocknames.CIK)],\n",
    "                                          on = 'comnam', how = 'left')\n",
    "    stocknames['CIK']= stocknames.CIK_x.combine_first(stocknames.CIK_y)\n",
    "    stocknames['url_{}'.format(year)] = stocknames['url_{}_x'.format(year)].combine_first(stocknames['url_{}_y'.format(year)])\n",
    "    stocknames['filling_date_{}'.format(year)] = stocknames['filling_date_{}_x'.format(year)].combine_first(stocknames['filling_date_{}_y'.format(year)])\n",
    "    stocknames.drop(columns = ['CIK_x', 'CIK_y','filling_date_{}_x'.format(year),'url_{}_y'.format(year),\n",
    "                               'filling_date_{}_y'.format(year),'url_{}_x'.format(year)], inplace = True)\n",
    "    \n",
    "print('Done')"
   ]
  },
  {
   "cell_type": "code",
   "execution_count": 7,
   "id": "b452d644",
   "metadata": {
    "scrolled": false
   },
   "outputs": [
    {
     "data": {
      "image/png": "[encoded data removed]",
      "text/plain": [
       "<Figure size 1500x700 with 1 Axes>"
      ]
     },
     "metadata": {},
     "output_type": "display_data"
    },
    {
     "name": "stdout",
     "output_type": "stream",
     "text": [
      "Number of firms with at least one observation: 7059\n",
      "Number of firm-year observations: 60470\n",
      "Average number of filings per firm: 8.566\n"
     ]
    }
   ],
   "source": [
    "#plot number of available 10-Ks\n",
    "years = np.arange(2007,2023)\n",
    "stocknames = stocknames[np.sort(stocknames.columns)]\n",
    "nb_obs_per_year = (~stocknames.filter(like = 'url').replace('', np.nan).isnull()).sum(0)\n",
    "nb_obs_per_year.plot.bar(figsize = (15,7))\n",
    "plt.xticks(np.arange(16),years, rotation = 60)\n",
    "#plt.title('Number of available 10-Ks per year')\n",
    "plt.xticks(fontsize = 14)\n",
    "plt.yticks(fontsize = 14)\n",
    "plt.ylabel('Number of 10-Ks', fontsize = 14)\n",
    "plt.show()\n",
    "nb_obs_per_firm = (~stocknames.filter(like = 'url').isnull()).sum(1)\n",
    "print(f'Number of firms with at least one observation: {(nb_obs_per_firm>0).sum()}')\n",
    "print(f'Number of firm-year observations: {nb_obs_per_year.sum()}')\n",
    "print(f'Average number of filings per firm: \\\n",
    "{round((~stocknames.filter(like = \"url\").replace(\"\", np.nan).isnull()).sum(1).mean(),3)}')"
   ]
  },
  {
   "cell_type": "code",
   "execution_count": 114,
   "id": "6085fe37",
   "metadata": {},
   "outputs": [],
   "source": [
    "#drop firms with no obserations\n",
    "idx = stocknames.filter(like = 'url').dropna(how = 'all').index\n",
    "stocknames = stocknames.loc[idx,:]\n",
    "#save stocknames as a gzipped csv\n",
    "stocknames.to_csv(\"../data/stocknames.csv.gz\", index = False)"
   ]
  },
  {
   "cell_type": "markdown",
   "id": "8b0d5b79",
   "metadata": {},
   "source": [
    "## Read in cybersecurity tactic descriptions from MITRE ATT&CK"
   ]
  },
  {
   "cell_type": "code",
   "execution_count": 348,
   "id": "00a51ea6",
   "metadata": {},
   "outputs": [],
   "source": [
    "#download all the tactics and techniques descritions from the website\n",
    "urls = {}\n",
    "urls['tactics_Reconnaissance'] = 'https://attack.mitre.org/tactics/TA0043/'\n",
    "urls['tactics_Resource_Development'] = 'https://attack.mitre.org/tactics/TA0042/'\n",
    "urls['tactics_Initial_Access'] = 'https://attack.mitre.org/tactics/TA0001/'\n",
    "urls['tactics_Execution'] = 'https://attack.mitre.org/tactics/TA0002/'\n",
    "urls['tactics_Persistence'] = 'https://attack.mitre.org/tactics/TA0003/'\n",
    "urls['tactics_Privilege_Escalation'] = 'https://attack.mitre.org/tactics/TA0004/'\n",
    "urls['tactics_Defense_Evasion'] = 'https://attack.mitre.org/tactics/TA0005/'\n",
    "urls['tactics_Credential_Access'] = 'https://attack.mitre.org/tactics/TA0006/'\n",
    "urls['tactics_Discovery'] = 'https://attack.mitre.org/tactics/TA0007/'\n",
    "urls['tactics_Lateral_Movement'] = 'https://attack.mitre.org/tactics/TA0008/'\n",
    "urls['tactics_Collection'] = 'https://attack.mitre.org/tactics/TA0009/'\n",
    "urls['tactics_Command_and_Control'] = 'https://attack.mitre.org/tactics/TA0011/'\n",
    "urls['tactics_Exfiltration'] = 'https://attack.mitre.org/tactics/TA0010/'\n",
    "urls['tactics_Impact'] = 'https://attack.mitre.org/tactics/TA0040/'\n",
    "\n",
    "for name, url in urls.items():\n",
    "    df = read_cyber_description(url)\n",
    "    df.to_csv(f'../data/MITRE_ATT&CK/descriptions/{name}.csv')"
   ]
  },
  {
   "cell_type": "code",
   "execution_count": 352,
   "id": "ce2a8441",
   "metadata": {},
   "outputs": [
    {
     "data": {
      "text/html": [
       "<div>\n",
       "<style scoped>\n",
       "    .dataframe tbody tr th:only-of-type {\n",
       "        vertical-align: middle;\n",
       "    }\n",
       "\n",
       "    .dataframe tbody tr th {\n",
       "        vertical-align: top;\n",
       "    }\n",
       "\n",
       "    .dataframe thead th {\n",
       "        text-align: right;\n",
       "    }\n",
       "</style>\n",
       "<table border=\"1\" class=\"dataframe\">\n",
       "  <thead>\n",
       "    <tr style=\"text-align: right;\">\n",
       "      <th></th>\n",
       "      <th></th>\n",
       "      <th>Description</th>\n",
       "    </tr>\n",
       "    <tr>\n",
       "      <th>technique</th>\n",
       "      <th>sub_technique</th>\n",
       "      <th></th>\n",
       "    </tr>\n",
       "  </thead>\n",
       "  <tbody>\n",
       "    <tr>\n",
       "      <th rowspan=\"6\" valign=\"top\">Account Manipulation</th>\n",
       "      <th>Account Manipulation</th>\n",
       "      <td>Adversaries may manipulate accounts to maintai...</td>\n",
       "    </tr>\n",
       "    <tr>\n",
       "      <th>Additional Cloud Credentials</th>\n",
       "      <td>Adversaries may add adversary-controlled crede...</td>\n",
       "    </tr>\n",
       "    <tr>\n",
       "      <th>Additional Email Delegate Permissions</th>\n",
       "      <td>Adversaries may grant additional permission le...</td>\n",
       "    </tr>\n",
       "    <tr>\n",
       "      <th>Additional Cloud Roles</th>\n",
       "      <td>An adversary may add additional roles or permi...</td>\n",
       "    </tr>\n",
       "    <tr>\n",
       "      <th>SSH Authorized Keys</th>\n",
       "      <td>Adversaries may modify the SSH authorized_keys...</td>\n",
       "    </tr>\n",
       "    <tr>\n",
       "      <th>Device Registration</th>\n",
       "      <td>Adversaries may register a device to an advers...</td>\n",
       "    </tr>\n",
       "    <tr>\n",
       "      <th>BITS Jobs</th>\n",
       "      <th>BITS Jobs</th>\n",
       "      <td>Adversaries may abuse BITS jobs to persistentl...</td>\n",
       "    </tr>\n",
       "    <tr>\n",
       "      <th rowspan=\"3\" valign=\"top\">Boot or Logon Autostart Execution</th>\n",
       "      <th>Boot or Logon Autostart Execution</th>\n",
       "      <td>Adversaries may configure system settings to a...</td>\n",
       "    </tr>\n",
       "    <tr>\n",
       "      <th>Registry Run Keys / Startup Folder</th>\n",
       "      <td>Adversaries may achieve persistence by adding ...</td>\n",
       "    </tr>\n",
       "    <tr>\n",
       "      <th>Authentication Package</th>\n",
       "      <td>Adversaries may abuse authentication packages ...</td>\n",
       "    </tr>\n",
       "  </tbody>\n",
       "</table>\n",
       "</div>"
      ],
      "text/plain": [
       "                                                                                                               Description\n",
       "technique                         sub_technique                                                                           \n",
       "Account Manipulation              Account Manipulation                   Adversaries may manipulate accounts to maintai...\n",
       "                                  Additional Cloud Credentials           Adversaries may add adversary-controlled crede...\n",
       "                                  Additional Email Delegate Permissions  Adversaries may grant additional permission le...\n",
       "                                  Additional Cloud Roles                 An adversary may add additional roles or permi...\n",
       "                                  SSH Authorized Keys                    Adversaries may modify the SSH authorized_keys...\n",
       "                                  Device Registration                    Adversaries may register a device to an advers...\n",
       "BITS Jobs                         BITS Jobs                              Adversaries may abuse BITS jobs to persistentl...\n",
       "Boot or Logon Autostart Execution Boot or Logon Autostart Execution      Adversaries may configure system settings to a...\n",
       "                                  Registry Run Keys / Startup Folder     Adversaries may achieve persistence by adding ...\n",
       "                                  Authentication Package                 Adversaries may abuse authentication packages ..."
      ]
     },
     "execution_count": 352,
     "metadata": {},
     "output_type": "execute_result"
    }
   ],
   "source": [
    "pd.read_csv('../data/MITRE_ATT&CK/descriptions/tactics_Persistence.csv', index_col = [0,1]).head(10)"
   ]
  },
  {
   "cell_type": "markdown",
   "id": "a8d8f89f",
   "metadata": {},
   "source": [
    "### Read in cybersecurity descriptions from the oldest version of the website on the wayback machine"
   ]
  },
  {
   "cell_type": "code",
   "execution_count": 353,
   "id": "cb340c45",
   "metadata": {},
   "outputs": [
    {
     "name": "stdout",
     "output_type": "stream",
     "text": [
      "Date of the snapshot: 2015-07-16 02:54:09\n"
     ]
    }
   ],
   "source": [
    "tactics = ['Persistence', 'Privilege_Escalation', 'Defense_Evasion', 'Credential_Access',\n",
    "           'Discovery', 'Lateral_Movement', 'Execution', 'Collection', 'Exfiltration', 'Command_and_Control']\n",
    "for tactic in tactics:\n",
    "    user_agent = \"my new app's user agent\"\n",
    "    oldest = WaybackMachineCDXServerAPI('attack.mitre.org', user_agent).oldest()\n",
    "    url = oldest.archive_url\n",
    "    response = requests.get(url+'wiki/'+tactic)\n",
    "    text = response.text\n",
    "    technique_pattern = re.compile('[^>]+<\\/a><\\/td><td class=\"Tactics smwtype_wpg\">')\n",
    "    sub_technique_pattern = re.compile('[^\\d]\\.\\d+')\n",
    "    techniques = [start_pattern.start() for start_pattern in technique_pattern.finditer(text)]\n",
    "    temp = {}\n",
    "    for i in range(len(techniques)):\n",
    "        try:\n",
    "            name, desc = re.split('<.+txt\">(?=[^<])',text[techniques[i]:techniques[i+1]])\n",
    "            desc = BeautifulSoup(desc, 'lxml').get_text()\n",
    "        except:\n",
    "            name, desc = re.split('<.+txt\">(?=[^<])',text[techniques[i]:])\n",
    "            desc = BeautifulSoup(desc, 'lxml').get_text()\n",
    "            desc = desc.split('\\n\\n')[0]\n",
    "        temp[name] = desc\n",
    "    temp = pd.DataFrame(temp, index = ['Description']).T\n",
    "    temp.index.name = 'technique'\n",
    "    temp.to_csv(f'../data/MITRE_ATT&CK/old_descriptions/tactics_{tactic}.csv')\n",
    "print(f\"Date of the snapshot: {oldest.datetime_timestamp}\")"
   ]
  },
  {
   "cell_type": "code",
   "execution_count": 357,
   "id": "0bbb2062",
   "metadata": {},
   "outputs": [
    {
     "data": {
      "text/html": [
       "<div>\n",
       "<style scoped>\n",
       "    .dataframe tbody tr th:only-of-type {\n",
       "        vertical-align: middle;\n",
       "    }\n",
       "\n",
       "    .dataframe tbody tr th {\n",
       "        vertical-align: top;\n",
       "    }\n",
       "\n",
       "    .dataframe thead th {\n",
       "        text-align: right;\n",
       "    }\n",
       "</style>\n",
       "<table border=\"1\" class=\"dataframe\">\n",
       "  <thead>\n",
       "    <tr style=\"text-align: right;\">\n",
       "      <th></th>\n",
       "      <th>Description</th>\n",
       "    </tr>\n",
       "    <tr>\n",
       "      <th>technique</th>\n",
       "      <th></th>\n",
       "    </tr>\n",
       "  </thead>\n",
       "  <tbody>\n",
       "    <tr>\n",
       "      <th>Accessibility Features</th>\n",
       "      <td>Windows contains accessibility features that m...</td>\n",
       "    </tr>\n",
       "    <tr>\n",
       "      <th>AppInit DLLs</th>\n",
       "      <td>DLLs that are specified in the AppInit_DLLs va...</td>\n",
       "    </tr>\n",
       "    <tr>\n",
       "      <th>Basic Input/Output System</th>\n",
       "      <td>The BIOS (Basic Input/Output System), which un...</td>\n",
       "    </tr>\n",
       "    <tr>\n",
       "      <th>Bootkit</th>\n",
       "      <td>A bootkit is a malware variant that modifies t...</td>\n",
       "    </tr>\n",
       "    <tr>\n",
       "      <th>Change Default File Association</th>\n",
       "      <td>When a file is opened, the default program use...</td>\n",
       "    </tr>\n",
       "    <tr>\n",
       "      <th>Component Firmware</th>\n",
       "      <td>Some adversaries may employ sophisticated mean...</td>\n",
       "    </tr>\n",
       "    <tr>\n",
       "      <th>Component Object Model Hijacking</th>\n",
       "      <td>The Microsoft Component Object Model (COM) is ...</td>\n",
       "    </tr>\n",
       "    <tr>\n",
       "      <th>DLL Search Order Hijacking</th>\n",
       "      <td>Windows systems use a common method to look fo...</td>\n",
       "    </tr>\n",
       "    <tr>\n",
       "      <th>File System Permissions Weakness</th>\n",
       "      <td>Processes may automatically execute specific b...</td>\n",
       "    </tr>\n",
       "    <tr>\n",
       "      <th>Hypervisor</th>\n",
       "      <td>A type-1 hypervisor is a software layer that s...</td>\n",
       "    </tr>\n",
       "  </tbody>\n",
       "</table>\n",
       "</div>"
      ],
      "text/plain": [
       "                                                                        Description\n",
       "technique                                                                          \n",
       "Accessibility Features            Windows contains accessibility features that m...\n",
       "AppInit DLLs                      DLLs that are specified in the AppInit_DLLs va...\n",
       "Basic Input/Output System         The BIOS (Basic Input/Output System), which un...\n",
       "Bootkit                           A bootkit is a malware variant that modifies t...\n",
       "Change Default File Association   When a file is opened, the default program use...\n",
       "Component Firmware                Some adversaries may employ sophisticated mean...\n",
       "Component Object Model Hijacking  The Microsoft Component Object Model (COM) is ...\n",
       "DLL Search Order Hijacking        Windows systems use a common method to look fo...\n",
       "File System Permissions Weakness  Processes may automatically execute specific b...\n",
       "Hypervisor                        A type-1 hypervisor is a software layer that s..."
      ]
     },
     "execution_count": 357,
     "metadata": {},
     "output_type": "execute_result"
    }
   ],
   "source": [
    "pd.read_csv('../data/MITRE_ATT&CK/old_descriptions/tactics_Persistence.csv', index_col = [0]).head(10)"
   ]
  },
  {
   "cell_type": "markdown",
   "id": "b2401482",
   "metadata": {},
   "source": [
    "## Get stock returns"
   ]
  },
  {
   "cell_type": "code",
   "execution_count": 60,
   "id": "b4fb20f7",
   "metadata": {},
   "outputs": [],
   "source": [
    "#read in the previously saved stocknames file\n",
    "stocknames = pd.read_csv(\"../data/stocknames.csv.gz\", na_filter = False)\n",
    "stocknames.replace('', np.nan, inplace = True)"
   ]
  },
  {
   "cell_type": "code",
   "execution_count": 63,
   "id": "a2753ff8",
   "metadata": {},
   "outputs": [
    {
     "data": {
      "application/vnd.jupyter.widget-view+json": {
       "model_id": "",
       "version_major": 2,
       "version_minor": 0
      },
      "text/plain": [
       "Getting monthly returns for all firms:   0%|          | 0/7059 [00:00<?, ?it/s]"
      ]
     },
     "metadata": {},
     "output_type": "display_data"
    }
   ],
   "source": [
    "#get monthly stock returns for all firms using wrds and crsp\n",
    "returns = []\n",
    "market_caps = []\n",
    "industry_codes = []\n",
    "for i in tqdm(range(len(stocknames)),desc = 'Getting monthly returns for all firms', leave = False):\n",
    "    ret = get_returns(stocknames.permco[i],db, stocknames.st_date[i], stocknames.end_date[i],stocknames.ticker[i])\n",
    "    returns.append(ret[0])\n",
    "    industry_codes.append(ret[1])\n",
    "    market_caps.append(ret[2])"
   ]
  },
  {
   "cell_type": "code",
   "execution_count": 28,
   "id": "d0744f10",
   "metadata": {},
   "outputs": [
    {
     "data": {
      "text/html": [
       "<div>\n",
       "<style scoped>\n",
       "    .dataframe tbody tr th:only-of-type {\n",
       "        vertical-align: middle;\n",
       "    }\n",
       "\n",
       "    .dataframe tbody tr th {\n",
       "        vertical-align: top;\n",
       "    }\n",
       "\n",
       "    .dataframe thead th {\n",
       "        text-align: right;\n",
       "    }\n",
       "</style>\n",
       "<table border=\"1\" class=\"dataframe\">\n",
       "  <thead>\n",
       "    <tr style=\"text-align: right;\">\n",
       "      <th></th>\n",
       "      <th>TSLA</th>\n",
       "      <th>QFTA</th>\n",
       "      <th>STRC</th>\n",
       "      <th>SEMR</th>\n",
       "      <th>TLGA</th>\n",
       "      <th>AGAC</th>\n",
       "      <th>DNZ</th>\n",
       "      <th>FATH</th>\n",
       "      <th>BLUA</th>\n",
       "      <th>PRPC</th>\n",
       "      <th>...</th>\n",
       "      <th>FLYD</th>\n",
       "      <th>BCRD</th>\n",
       "      <th>MSPC</th>\n",
       "      <th>MSTC</th>\n",
       "      <th>HRST</th>\n",
       "      <th>GWIN</th>\n",
       "      <th>CLCN</th>\n",
       "      <th>BRVO</th>\n",
       "      <th>BRER</th>\n",
       "      <th>ATDS</th>\n",
       "    </tr>\n",
       "    <tr>\n",
       "      <th>date</th>\n",
       "      <th></th>\n",
       "      <th></th>\n",
       "      <th></th>\n",
       "      <th></th>\n",
       "      <th></th>\n",
       "      <th></th>\n",
       "      <th></th>\n",
       "      <th></th>\n",
       "      <th></th>\n",
       "      <th></th>\n",
       "      <th></th>\n",
       "      <th></th>\n",
       "      <th></th>\n",
       "      <th></th>\n",
       "      <th></th>\n",
       "      <th></th>\n",
       "      <th></th>\n",
       "      <th></th>\n",
       "      <th></th>\n",
       "      <th></th>\n",
       "      <th></th>\n",
       "    </tr>\n",
       "  </thead>\n",
       "  <tbody>\n",
       "    <tr>\n",
       "      <th>2022-08</th>\n",
       "      <td>-0.072489</td>\n",
       "      <td>-0.002530</td>\n",
       "      <td>-0.020896</td>\n",
       "      <td>0.009046</td>\n",
       "      <td>-0.003039</td>\n",
       "      <td>0.003049</td>\n",
       "      <td>0.000000</td>\n",
       "      <td>-0.112150</td>\n",
       "      <td>-0.001013</td>\n",
       "      <td>-0.001010</td>\n",
       "      <td>...</td>\n",
       "      <td>NaN</td>\n",
       "      <td>NaN</td>\n",
       "      <td>NaN</td>\n",
       "      <td>NaN</td>\n",
       "      <td>NaN</td>\n",
       "      <td>NaN</td>\n",
       "      <td>NaN</td>\n",
       "      <td>NaN</td>\n",
       "      <td>NaN</td>\n",
       "      <td>NaN</td>\n",
       "    </tr>\n",
       "    <tr>\n",
       "      <th>2022-09</th>\n",
       "      <td>-0.037589</td>\n",
       "      <td>0.000507</td>\n",
       "      <td>-0.323171</td>\n",
       "      <td>-0.086390</td>\n",
       "      <td>0.002032</td>\n",
       "      <td>0.003039</td>\n",
       "      <td>0.001014</td>\n",
       "      <td>-0.465789</td>\n",
       "      <td>0.005578</td>\n",
       "      <td>0.004044</td>\n",
       "      <td>...</td>\n",
       "      <td>NaN</td>\n",
       "      <td>NaN</td>\n",
       "      <td>NaN</td>\n",
       "      <td>NaN</td>\n",
       "      <td>NaN</td>\n",
       "      <td>NaN</td>\n",
       "      <td>NaN</td>\n",
       "      <td>NaN</td>\n",
       "      <td>NaN</td>\n",
       "      <td>NaN</td>\n",
       "    </tr>\n",
       "    <tr>\n",
       "      <th>2022-10</th>\n",
       "      <td>-0.142168</td>\n",
       "      <td>0.006085</td>\n",
       "      <td>-0.090090</td>\n",
       "      <td>0.090990</td>\n",
       "      <td>0.009128</td>\n",
       "      <td>0.006061</td>\n",
       "      <td>0.013171</td>\n",
       "      <td>0.251232</td>\n",
       "      <td>0.004539</td>\n",
       "      <td>0.007049</td>\n",
       "      <td>...</td>\n",
       "      <td>NaN</td>\n",
       "      <td>NaN</td>\n",
       "      <td>NaN</td>\n",
       "      <td>NaN</td>\n",
       "      <td>NaN</td>\n",
       "      <td>NaN</td>\n",
       "      <td>NaN</td>\n",
       "      <td>NaN</td>\n",
       "      <td>NaN</td>\n",
       "      <td>NaN</td>\n",
       "    </tr>\n",
       "    <tr>\n",
       "      <th>2022-11</th>\n",
       "      <td>-0.144326</td>\n",
       "      <td>0.000504</td>\n",
       "      <td>-0.423267</td>\n",
       "      <td>-0.224857</td>\n",
       "      <td>0.012060</td>\n",
       "      <td>0.003514</td>\n",
       "      <td>0.003500</td>\n",
       "      <td>-0.043307</td>\n",
       "      <td>0.004016</td>\n",
       "      <td>0.006000</td>\n",
       "      <td>...</td>\n",
       "      <td>NaN</td>\n",
       "      <td>NaN</td>\n",
       "      <td>NaN</td>\n",
       "      <td>NaN</td>\n",
       "      <td>NaN</td>\n",
       "      <td>NaN</td>\n",
       "      <td>NaN</td>\n",
       "      <td>NaN</td>\n",
       "      <td>NaN</td>\n",
       "      <td>NaN</td>\n",
       "    </tr>\n",
       "    <tr>\n",
       "      <th>2022-12</th>\n",
       "      <td>-0.367334</td>\n",
       "      <td>0.012594</td>\n",
       "      <td>-0.518197</td>\n",
       "      <td>-0.141350</td>\n",
       "      <td>0.010924</td>\n",
       "      <td>0.005503</td>\n",
       "      <td>-0.003488</td>\n",
       "      <td>-0.456790</td>\n",
       "      <td>0.009000</td>\n",
       "      <td>0.003976</td>\n",
       "      <td>...</td>\n",
       "      <td>NaN</td>\n",
       "      <td>NaN</td>\n",
       "      <td>NaN</td>\n",
       "      <td>NaN</td>\n",
       "      <td>NaN</td>\n",
       "      <td>NaN</td>\n",
       "      <td>NaN</td>\n",
       "      <td>NaN</td>\n",
       "      <td>NaN</td>\n",
       "      <td>NaN</td>\n",
       "    </tr>\n",
       "  </tbody>\n",
       "</table>\n",
       "<p>5 rows × 7059 columns</p>\n",
       "</div>"
      ],
      "text/plain": [
       "             TSLA      QFTA      STRC      SEMR      TLGA      AGAC       DNZ  \\\n",
       "date                                                                            \n",
       "2022-08 -0.072489 -0.002530 -0.020896  0.009046 -0.003039  0.003049  0.000000   \n",
       "2022-09 -0.037589  0.000507 -0.323171 -0.086390  0.002032  0.003039  0.001014   \n",
       "2022-10 -0.142168  0.006085 -0.090090  0.090990  0.009128  0.006061  0.013171   \n",
       "2022-11 -0.144326  0.000504 -0.423267 -0.224857  0.012060  0.003514  0.003500   \n",
       "2022-12 -0.367334  0.012594 -0.518197 -0.141350  0.010924  0.005503 -0.003488   \n",
       "\n",
       "             FATH      BLUA      PRPC  ...  FLYD  BCRD  MSPC  MSTC  HRST  \\\n",
       "date                                   ...                                 \n",
       "2022-08 -0.112150 -0.001013 -0.001010  ...   NaN   NaN   NaN   NaN   NaN   \n",
       "2022-09 -0.465789  0.005578  0.004044  ...   NaN   NaN   NaN   NaN   NaN   \n",
       "2022-10  0.251232  0.004539  0.007049  ...   NaN   NaN   NaN   NaN   NaN   \n",
       "2022-11 -0.043307  0.004016  0.006000  ...   NaN   NaN   NaN   NaN   NaN   \n",
       "2022-12 -0.456790  0.009000  0.003976  ...   NaN   NaN   NaN   NaN   NaN   \n",
       "\n",
       "         GWIN  CLCN  BRVO  BRER  ATDS  \n",
       "date                                   \n",
       "2022-08   NaN   NaN   NaN   NaN   NaN  \n",
       "2022-09   NaN   NaN   NaN   NaN   NaN  \n",
       "2022-10   NaN   NaN   NaN   NaN   NaN  \n",
       "2022-11   NaN   NaN   NaN   NaN   NaN  \n",
       "2022-12   NaN   NaN   NaN   NaN   NaN  \n",
       "\n",
       "[5 rows x 7059 columns]"
      ]
     },
     "execution_count": 28,
     "metadata": {},
     "output_type": "execute_result"
    }
   ],
   "source": [
    "returns_df = pd.concat(returns, axis = 1).sort_index()\n",
    "returns_df = returns_df[returns_df.index.year > 2006]\n",
    "returns_df.tail()"
   ]
  },
  {
   "cell_type": "code",
   "execution_count": 29,
   "id": "8541dd02",
   "metadata": {},
   "outputs": [
    {
     "data": {
      "text/html": [
       "<div>\n",
       "<style scoped>\n",
       "    .dataframe tbody tr th:only-of-type {\n",
       "        vertical-align: middle;\n",
       "    }\n",
       "\n",
       "    .dataframe tbody tr th {\n",
       "        vertical-align: top;\n",
       "    }\n",
       "\n",
       "    .dataframe thead th {\n",
       "        text-align: right;\n",
       "    }\n",
       "</style>\n",
       "<table border=\"1\" class=\"dataframe\">\n",
       "  <thead>\n",
       "    <tr style=\"text-align: right;\">\n",
       "      <th></th>\n",
       "      <th>TSLA</th>\n",
       "      <th>QFTA</th>\n",
       "      <th>STRC</th>\n",
       "      <th>SEMR</th>\n",
       "      <th>TLGA</th>\n",
       "      <th>AGAC</th>\n",
       "      <th>DNZ</th>\n",
       "      <th>FATH</th>\n",
       "      <th>BLUA</th>\n",
       "      <th>PRPC</th>\n",
       "      <th>...</th>\n",
       "      <th>FLYD</th>\n",
       "      <th>BCRD</th>\n",
       "      <th>MSPC</th>\n",
       "      <th>MSTC</th>\n",
       "      <th>HRST</th>\n",
       "      <th>GWIN</th>\n",
       "      <th>CLCN</th>\n",
       "      <th>BRVO</th>\n",
       "      <th>BRER</th>\n",
       "      <th>ATDS</th>\n",
       "    </tr>\n",
       "    <tr>\n",
       "      <th>date</th>\n",
       "      <th></th>\n",
       "      <th></th>\n",
       "      <th></th>\n",
       "      <th></th>\n",
       "      <th></th>\n",
       "      <th></th>\n",
       "      <th></th>\n",
       "      <th></th>\n",
       "      <th></th>\n",
       "      <th></th>\n",
       "      <th></th>\n",
       "      <th></th>\n",
       "      <th></th>\n",
       "      <th></th>\n",
       "      <th></th>\n",
       "      <th></th>\n",
       "      <th></th>\n",
       "      <th></th>\n",
       "      <th></th>\n",
       "      <th></th>\n",
       "      <th></th>\n",
       "    </tr>\n",
       "  </thead>\n",
       "  <tbody>\n",
       "    <tr>\n",
       "      <th>2022-08</th>\n",
       "      <td>8.636156e+11</td>\n",
       "      <td>2.479124e+08</td>\n",
       "      <td>5.077440e+08</td>\n",
       "      <td>5.315732e+08</td>\n",
       "      <td>3.936000e+08</td>\n",
       "      <td>4.086180e+08</td>\n",
       "      <td>2.834750e+08</td>\n",
       "      <td>2.340686e+08</td>\n",
       "      <td>2.594067e+08</td>\n",
       "      <td>3.980725e+08</td>\n",
       "      <td>...</td>\n",
       "      <td>NaN</td>\n",
       "      <td>NaN</td>\n",
       "      <td>NaN</td>\n",
       "      <td>NaN</td>\n",
       "      <td>NaN</td>\n",
       "      <td>NaN</td>\n",
       "      <td>NaN</td>\n",
       "      <td>NaN</td>\n",
       "      <td>NaN</td>\n",
       "      <td>NaN</td>\n",
       "    </tr>\n",
       "    <tr>\n",
       "      <th>2022-09</th>\n",
       "      <td>8.376595e+11</td>\n",
       "      <td>2.480382e+08</td>\n",
       "      <td>3.432986e+08</td>\n",
       "      <td>4.856508e+08</td>\n",
       "      <td>3.944000e+08</td>\n",
       "      <td>4.098600e+08</td>\n",
       "      <td>2.837625e+08</td>\n",
       "      <td>1.250419e+08</td>\n",
       "      <td>2.608537e+08</td>\n",
       "      <td>3.996825e+08</td>\n",
       "      <td>...</td>\n",
       "      <td>NaN</td>\n",
       "      <td>NaN</td>\n",
       "      <td>NaN</td>\n",
       "      <td>NaN</td>\n",
       "      <td>NaN</td>\n",
       "      <td>NaN</td>\n",
       "      <td>NaN</td>\n",
       "      <td>NaN</td>\n",
       "      <td>NaN</td>\n",
       "      <td>NaN</td>\n",
       "    </tr>\n",
       "    <tr>\n",
       "      <th>2022-10</th>\n",
       "      <td>7.185149e+11</td>\n",
       "      <td>2.495475e+08</td>\n",
       "      <td>3.124940e+08</td>\n",
       "      <td>5.298403e+08</td>\n",
       "      <td>3.980000e+08</td>\n",
       "      <td>4.123440e+08</td>\n",
       "      <td>2.875000e+08</td>\n",
       "      <td>1.564564e+08</td>\n",
       "      <td>2.620376e+08</td>\n",
       "      <td>4.025000e+08</td>\n",
       "      <td>...</td>\n",
       "      <td>NaN</td>\n",
       "      <td>NaN</td>\n",
       "      <td>NaN</td>\n",
       "      <td>NaN</td>\n",
       "      <td>NaN</td>\n",
       "      <td>NaN</td>\n",
       "      <td>NaN</td>\n",
       "      <td>NaN</td>\n",
       "      <td>NaN</td>\n",
       "      <td>NaN</td>\n",
       "    </tr>\n",
       "    <tr>\n",
       "      <th>2022-11</th>\n",
       "      <td>6.148143e+11</td>\n",
       "      <td>2.496733e+08</td>\n",
       "      <td>1.802255e+08</td>\n",
       "      <td>4.136977e+08</td>\n",
       "      <td>4.028000e+08</td>\n",
       "      <td>4.137930e+08</td>\n",
       "      <td>2.885062e+08</td>\n",
       "      <td>1.592379e+08</td>\n",
       "      <td>2.630900e+08</td>\n",
       "      <td>4.049150e+08</td>\n",
       "      <td>...</td>\n",
       "      <td>NaN</td>\n",
       "      <td>NaN</td>\n",
       "      <td>NaN</td>\n",
       "      <td>NaN</td>\n",
       "      <td>NaN</td>\n",
       "      <td>NaN</td>\n",
       "      <td>NaN</td>\n",
       "      <td>NaN</td>\n",
       "      <td>NaN</td>\n",
       "      <td>NaN</td>\n",
       "    </tr>\n",
       "    <tr>\n",
       "      <th>2022-12</th>\n",
       "      <td>3.889719e+11</td>\n",
       "      <td>2.528178e+08</td>\n",
       "      <td>8.683311e+07</td>\n",
       "      <td>3.552215e+08</td>\n",
       "      <td>4.072000e+08</td>\n",
       "      <td>4.160700e+08</td>\n",
       "      <td>2.875000e+08</td>\n",
       "      <td>8.649960e+07</td>\n",
       "      <td>2.654578e+08</td>\n",
       "      <td>4.065250e+08</td>\n",
       "      <td>...</td>\n",
       "      <td>NaN</td>\n",
       "      <td>NaN</td>\n",
       "      <td>NaN</td>\n",
       "      <td>NaN</td>\n",
       "      <td>NaN</td>\n",
       "      <td>NaN</td>\n",
       "      <td>NaN</td>\n",
       "      <td>NaN</td>\n",
       "      <td>NaN</td>\n",
       "      <td>NaN</td>\n",
       "    </tr>\n",
       "  </tbody>\n",
       "</table>\n",
       "<p>5 rows × 7059 columns</p>\n",
       "</div>"
      ],
      "text/plain": [
       "                 TSLA          QFTA          STRC          SEMR          TLGA  \\\n",
       "date                                                                            \n",
       "2022-08  8.636156e+11  2.479124e+08  5.077440e+08  5.315732e+08  3.936000e+08   \n",
       "2022-09  8.376595e+11  2.480382e+08  3.432986e+08  4.856508e+08  3.944000e+08   \n",
       "2022-10  7.185149e+11  2.495475e+08  3.124940e+08  5.298403e+08  3.980000e+08   \n",
       "2022-11  6.148143e+11  2.496733e+08  1.802255e+08  4.136977e+08  4.028000e+08   \n",
       "2022-12  3.889719e+11  2.528178e+08  8.683311e+07  3.552215e+08  4.072000e+08   \n",
       "\n",
       "                 AGAC           DNZ          FATH          BLUA          PRPC  \\\n",
       "date                                                                            \n",
       "2022-08  4.086180e+08  2.834750e+08  2.340686e+08  2.594067e+08  3.980725e+08   \n",
       "2022-09  4.098600e+08  2.837625e+08  1.250419e+08  2.608537e+08  3.996825e+08   \n",
       "2022-10  4.123440e+08  2.875000e+08  1.564564e+08  2.620376e+08  4.025000e+08   \n",
       "2022-11  4.137930e+08  2.885062e+08  1.592379e+08  2.630900e+08  4.049150e+08   \n",
       "2022-12  4.160700e+08  2.875000e+08  8.649960e+07  2.654578e+08  4.065250e+08   \n",
       "\n",
       "         ...  FLYD  BCRD  MSPC  MSTC  HRST  GWIN  CLCN  BRVO  BRER  ATDS  \n",
       "date     ...                                                              \n",
       "2022-08  ...   NaN   NaN   NaN   NaN   NaN   NaN   NaN   NaN   NaN   NaN  \n",
       "2022-09  ...   NaN   NaN   NaN   NaN   NaN   NaN   NaN   NaN   NaN   NaN  \n",
       "2022-10  ...   NaN   NaN   NaN   NaN   NaN   NaN   NaN   NaN   NaN   NaN  \n",
       "2022-11  ...   NaN   NaN   NaN   NaN   NaN   NaN   NaN   NaN   NaN   NaN  \n",
       "2022-12  ...   NaN   NaN   NaN   NaN   NaN   NaN   NaN   NaN   NaN   NaN  \n",
       "\n",
       "[5 rows x 7059 columns]"
      ]
     },
     "execution_count": 29,
     "metadata": {},
     "output_type": "execute_result"
    }
   ],
   "source": [
    "market_caps_df = pd.concat(market_caps, axis = 1).sort_index()\n",
    "market_caps_df = market_caps_df[market_caps_df.index.year > 2006]\n",
    "market_caps_df.tail()"
   ]
  },
  {
   "cell_type": "code",
   "execution_count": 64,
   "id": "b3e00543",
   "metadata": {},
   "outputs": [
    {
     "data": {
      "text/html": [
       "<div>\n",
       "<style scoped>\n",
       "    .dataframe tbody tr th:only-of-type {\n",
       "        vertical-align: middle;\n",
       "    }\n",
       "\n",
       "    .dataframe tbody tr th {\n",
       "        vertical-align: top;\n",
       "    }\n",
       "\n",
       "    .dataframe thead th {\n",
       "        text-align: right;\n",
       "    }\n",
       "</style>\n",
       "<table border=\"1\" class=\"dataframe\">\n",
       "  <thead>\n",
       "    <tr style=\"text-align: right;\">\n",
       "      <th></th>\n",
       "      <th>Industry_code</th>\n",
       "    </tr>\n",
       "    <tr>\n",
       "      <th>ticker</th>\n",
       "      <th></th>\n",
       "    </tr>\n",
       "  </thead>\n",
       "  <tbody>\n",
       "    <tr>\n",
       "      <th>TSLA</th>\n",
       "      <td>9999.0</td>\n",
       "    </tr>\n",
       "    <tr>\n",
       "      <th>QFTA</th>\n",
       "      <td>6799.0</td>\n",
       "    </tr>\n",
       "    <tr>\n",
       "      <th>STRC</th>\n",
       "      <td>6799.0</td>\n",
       "    </tr>\n",
       "    <tr>\n",
       "      <th>SEMR</th>\n",
       "      <td>7372.0</td>\n",
       "    </tr>\n",
       "    <tr>\n",
       "      <th>TLGA</th>\n",
       "      <td>6799.0</td>\n",
       "    </tr>\n",
       "    <tr>\n",
       "      <th>...</th>\n",
       "      <td>...</td>\n",
       "    </tr>\n",
       "    <tr>\n",
       "      <th>GWIN</th>\n",
       "      <td>3823.0</td>\n",
       "    </tr>\n",
       "    <tr>\n",
       "      <th>CLCN</th>\n",
       "      <td>1311.0</td>\n",
       "    </tr>\n",
       "    <tr>\n",
       "      <th>BRVO</th>\n",
       "      <td>2258.0</td>\n",
       "    </tr>\n",
       "    <tr>\n",
       "      <th>BRER</th>\n",
       "      <td>6531.0</td>\n",
       "    </tr>\n",
       "    <tr>\n",
       "      <th>ATDS</th>\n",
       "      <td>5311.0</td>\n",
       "    </tr>\n",
       "  </tbody>\n",
       "</table>\n",
       "<p>7059 rows × 1 columns</p>\n",
       "</div>"
      ],
      "text/plain": [
       "        Industry_code\n",
       "ticker               \n",
       "TSLA           9999.0\n",
       "QFTA           6799.0\n",
       "STRC           6799.0\n",
       "SEMR           7372.0\n",
       "TLGA           6799.0\n",
       "...               ...\n",
       "GWIN           3823.0\n",
       "CLCN           1311.0\n",
       "BRVO           2258.0\n",
       "BRER           6531.0\n",
       "ATDS           5311.0\n",
       "\n",
       "[7059 rows x 1 columns]"
      ]
     },
     "execution_count": 64,
     "metadata": {},
     "output_type": "execute_result"
    }
   ],
   "source": [
    "industry_codes_df = pd.concat(industry_codes, axis = 1).sort_index()\n",
    "industry_codes_df = industry_codes_df.mask(industry_codes_df.isnull()).ffill().iloc[[-1]].T\n",
    "industry_codes_df.columns = ['Industry_code']\n",
    "#industry_codes_df.fillna(9999, inplace = True)\n",
    "industry_codes_df.index.rename('ticker', inplace = True)\n",
    "industry_codes_df#.astype(int)"
   ]
  },
  {
   "cell_type": "code",
   "execution_count": 65,
   "id": "a2d42ac4",
   "metadata": {},
   "outputs": [
    {
     "data": {
      "text/html": [
       "<div>\n",
       "<style scoped>\n",
       "    .dataframe tbody tr th:only-of-type {\n",
       "        vertical-align: middle;\n",
       "    }\n",
       "\n",
       "    .dataframe tbody tr th {\n",
       "        vertical-align: top;\n",
       "    }\n",
       "\n",
       "    .dataframe thead th {\n",
       "        text-align: right;\n",
       "    }\n",
       "</style>\n",
       "<table border=\"1\" class=\"dataframe\">\n",
       "  <thead>\n",
       "    <tr style=\"text-align: right;\">\n",
       "      <th></th>\n",
       "      <th>Industry_code</th>\n",
       "      <th>FF_Industry_code</th>\n",
       "    </tr>\n",
       "    <tr>\n",
       "      <th>ticker</th>\n",
       "      <th></th>\n",
       "      <th></th>\n",
       "    </tr>\n",
       "  </thead>\n",
       "  <tbody>\n",
       "    <tr>\n",
       "      <th>TSLA</th>\n",
       "      <td>9999.0</td>\n",
       "      <td>12.0</td>\n",
       "    </tr>\n",
       "    <tr>\n",
       "      <th>QFTA</th>\n",
       "      <td>6799.0</td>\n",
       "      <td>11.0</td>\n",
       "    </tr>\n",
       "    <tr>\n",
       "      <th>STRC</th>\n",
       "      <td>6799.0</td>\n",
       "      <td>11.0</td>\n",
       "    </tr>\n",
       "    <tr>\n",
       "      <th>SEMR</th>\n",
       "      <td>7372.0</td>\n",
       "      <td>6.0</td>\n",
       "    </tr>\n",
       "    <tr>\n",
       "      <th>TLGA</th>\n",
       "      <td>6799.0</td>\n",
       "      <td>11.0</td>\n",
       "    </tr>\n",
       "  </tbody>\n",
       "</table>\n",
       "</div>"
      ],
      "text/plain": [
       "        Industry_code  FF_Industry_code\n",
       "ticker                                 \n",
       "TSLA           9999.0              12.0\n",
       "QFTA           6799.0              11.0\n",
       "STRC           6799.0              11.0\n",
       "SEMR           7372.0               6.0\n",
       "TLGA           6799.0              11.0"
      ]
     },
     "execution_count": 65,
     "metadata": {},
     "output_type": "execute_result"
    }
   ],
   "source": [
    "#match SIC industry codes to Fama French Industry codes\n",
    "SIC_to_FF = pd.read_excel('../data/SIC_to_FF_industry.xlsx', skiprows = 3).dropna(axis = 1, how = 'all')\n",
    "industry_codes_df['FF_Industry_code'] = industry_codes_df.Industry_code.apply(lambda x: match_FF_industry(x,SIC_to_FF))\n",
    "industry_codes_df.head()"
   ]
  },
  {
   "cell_type": "code",
   "execution_count": 146,
   "id": "b9ec5c9e",
   "metadata": {},
   "outputs": [
    {
     "data": {
      "image/png": "[encoded data removed]",
      "text/plain": [
       "<Figure size 700x700 with 1 Axes>"
      ]
     },
     "metadata": {},
     "output_type": "display_data"
    }
   ],
   "source": [
    "try:\n",
    "    industries_dist = industry_codes_df.filter(like = 'FF').value_counts().sort_index()\n",
    "except:\n",
    "    industries_dist = stocknames[['FF_Industry_code']].value_counts().sort_index()\n",
    "industries_dist.index = ['Consumer Nondurables', 'Consumer Durables',\n",
    "                         'Manufacturing', 'Oil and Gas',\n",
    "                         'Chemicals', 'Business Equipment',\n",
    "                         'Telephone and Television Transmission',\n",
    "                         'Utilities', ' Retail', 'Healthcare',\n",
    "                         'Finance', 'Other']\n",
    "#industries_dist.plot.pie(figsize=(5, 5), explode = (0,0,0,0,0.1,0,0.2,0.1,0,0,0,0), fontsize = 13)\n",
    "plt.figure(figsize = (7,7))\n",
    "plt.rcParams['font.size'] = 12\n",
    "wedges, texts,autotexts = plt.pie(industries_dist, explode = (0,0,0,0,0.1,0,0.25,0.1,0,0,0,0),\n",
    "                                  labels = industries_dist.index, autopct = '')\n",
    "# Calculate the percentages\n",
    "percentages = industries_dist / industries_dist.sum() * 100\n",
    "for i, (wedge, percentage, autotext, text) in enumerate(zip(wedges, percentages, autotexts, texts)):\n",
    "    if percentage >= 6:\n",
    "        autotext.set_text(f'{percentage:.1f}%')\n",
    "    else:\n",
    "        text.set_text(text.get_text()+f' ({percentage:.1f}%)')\n",
    "plt.ylabel('')\n",
    "plt.show()"
   ]
  },
  {
   "cell_type": "code",
   "execution_count": 45,
   "id": "5d174cc8",
   "metadata": {},
   "outputs": [],
   "source": [
    "#merge the industry classifications onto stocknames\n",
    "stocknames = stocknames.merge(industry_codes_df.reset_index(), on = 'ticker')\n",
    "stocknames = stocknames[np.sort(stocknames.columns)]"
   ]
  },
  {
   "cell_type": "code",
   "execution_count": 49,
   "id": "57de4f41",
   "metadata": {
    "scrolled": true
   },
   "outputs": [],
   "source": [
    "#########################download yearly book values for all companies\n",
    "book_value = db.get_table(library = 'comp', table = 'funda', columns = ['datadate', 'tic', 'ceq', 'gvkey'])\n",
    "book_value.columns = ['date', 'ticker','BV', 'gvkey']\n",
    "book_value = book_value[book_value.ticker.isin(stocknames.ticker)].drop_duplicates(subset = ['ticker','date'])\n",
    "\n",
    "temp = book_value[['ticker', 'gvkey']]\n",
    "temp = temp.groupby('ticker').last()\n",
    "book_value.drop(columns = ['gvkey'], inplace = True)\n",
    "#stocknames = stocknames.merge(temp, on = 'ticker', how = 'left')\n",
    "\n",
    "book_value.dropna(how = 'any', inplace = True)\n",
    "book_value.date = pd.to_datetime(book_value.date)\n",
    "book_value = book_value.pivot(index = 'date', columns = 'ticker', values = 'BV')\n",
    "#Winsorize by year\n",
    "book_value = book_value.groupby(book_value.index.year).apply(lambda x: \n",
    "                                x.stack().clip(lower = x.stack().quantile(0.01), upper = x.stack().quantile(0.99)).unstack())\n",
    "\n",
    "book_value = book_value.ffill()\n",
    "book_value.index = book_value.index.to_period('M')\n",
    "book_value = book_value.multiply(1000000) #in millions on wrds\n",
    "temp_book_value = book_value[book_value.index.year < 2023]\n",
    "book_value = book_value[(book_value.index.year > 2006) & (book_value.index.year < 2023)]\n",
    "book_value[book_value<0] = np.nan\n",
    "book_value.dropna(how = 'all', axis = 1, inplace = True)\n",
    "\n",
    "#########################book to market ratio\n",
    "book_to_market = book_value.div(market_caps_df)\n",
    "\n",
    "#########################firm age\n",
    "firm_age = temp_book_value.dropna(axis = 1, how = 'all').copy()\n",
    "first_date = temp_book_value.apply(pd.Series.first_valid_index)\n",
    "last_date = temp_book_value.apply(pd.Series.last_valid_index)\n",
    "for ticker in firm_age.columns:\n",
    "    ages = np.arange(1,len(firm_age.loc[first_date[ticker]:last_date[ticker],ticker])+1)\n",
    "    firm_age.loc[first_date[ticker]:last_date[ticker],ticker] = ages/12\n",
    "    \n",
    "#########################compute yearly Return on assets (ROA) for all companies\n",
    "#ROA = operating income before depreciation / Total assets\n",
    "net_income = db.get_table(library = 'comp', table = 'funda', columns = ['datadate', 'tic', 'ni'])\n",
    "net_income.columns = ['date', 'ticker','net_income']\n",
    "net_income = net_income[net_income.ticker.isin(stocknames.ticker)].drop_duplicates(subset = ['ticker','date'])\n",
    "net_income.dropna(how = 'any', inplace = True)\n",
    "net_income.date = pd.to_datetime(net_income.date)\n",
    "net_income = net_income.pivot(index = 'date', columns = 'ticker', values = 'net_income')\n",
    "net_income.index = net_income.index.to_period('M')\n",
    "net_income = net_income[(net_income.index.year > 2006) & (net_income.index.year < 2023)]\n",
    "#Winsorize by year\n",
    "net_income = net_income.groupby(net_income.index.year).apply(lambda x: \n",
    "                                x.stack().clip(lower = x.stack().quantile(0.01), upper = x.stack().quantile(0.99)).unstack())\n",
    "net_income = net_income.ffill()\n",
    "\n",
    "total_assets = db.get_table(library = 'comp', table = 'funda', columns = ['datadate', 'tic', 'at'])\n",
    "total_assets.columns = ['date', 'ticker','total_assets']\n",
    "total_assets = total_assets[total_assets.ticker.isin(stocknames.ticker)].drop_duplicates(subset = ['ticker','date'])\n",
    "total_assets.dropna(how = 'any', inplace = True)\n",
    "total_assets.date = pd.to_datetime(total_assets.date)\n",
    "total_assets = total_assets.pivot(index = 'date', columns = 'ticker', values = 'total_assets')\n",
    "total_assets.index = total_assets.index.to_period('M')\n",
    "total_assets = total_assets.replace(0, np.nan)\n",
    "total_assets = total_assets[(total_assets.index.year > 2006) & (total_assets.index.year < 2023)]\n",
    "#Winsorize by year\n",
    "total_assets = total_assets.groupby(total_assets.index.year).apply(lambda x: \n",
    "                                    x.stack().clip(lower = x.stack().quantile(0.01), upper = x.stack().quantile(0.99)).unstack())\n",
    "total_assets = total_assets.ffill()\n",
    "\n",
    "ROA = net_income.div(total_assets)\n",
    "ROA = ROA.groupby(ROA.index.year).apply(lambda x: \n",
    "                  x.stack().clip(lower = x.stack().quantile(0.01), upper = x.stack().quantile(0.99)).unstack())\n",
    "\n",
    "#########################Intangible assets\n",
    "intangibles = db.get_table(library = 'comp', table = 'funda', columns = ['datadate', 'tic', 'intan'])\n",
    "intangibles.columns = ['date','ticker','intangibles']\n",
    "intangibles = intangibles[intangibles.ticker.isin(stocknames.ticker)].drop_duplicates(subset = ['ticker','date'])\n",
    "intangibles.dropna(how = 'any', inplace = True)\n",
    "intangibles.date = pd.to_datetime(intangibles.date)\n",
    "intangibles = intangibles.pivot(index = 'date', columns = 'ticker', values = 'intangibles')\n",
    "intangibles.index = intangibles.index.to_period('M')\n",
    "intangibles = intangibles[(intangibles.index.year > 2006) & (intangibles.index.year < 2023)]\n",
    "#Winsorize by year\n",
    "intangibles = intangibles.groupby(intangibles.index.year).apply(lambda x: \n",
    "                                  x.stack().clip(lower = x.stack().quantile(0.01), upper = x.stack().quantile(0.99)).unstack())\n",
    "intangibles = intangibles.ffill()\n",
    "intangibles_to_assets = intangibles.div(total_assets)\n",
    "\n",
    "#########################firm size\n",
    "total_assets = total_assets.multiply(1000000)\n",
    "\n",
    "#########################Tobin's Q\n",
    "liabilities = total_assets.sub(book_value)\n",
    "TobinQ = liabilities.add(market_caps_df).div(total_assets)\n",
    "#Winsorize by year\n",
    "TobinQ = TobinQ.groupby(TobinQ.index.year).apply(lambda x: \n",
    "                        x.stack().clip(lower = x.stack().quantile(0.01), upper = x.stack().quantile(0.99)).unstack())\n",
    "\n",
    "#########################Market Beta\n",
    "betas = db.get_table(library = 'comp', table = 'co_mthly', columns = ['datadate', 'gvkey', 'beta'])\n",
    "betas.columns = ['date', 'gvkey', 'beta']\n",
    "betas.date = pd.to_datetime(betas.date)\n",
    "betas = betas.pivot(index = 'date', columns = 'gvkey', values = 'beta')\n",
    "betas = betas.loc[:,betas.columns.isin(stocknames.gvkey)]\n",
    "betas.columns = [stocknames.loc[stocknames.gvkey == b].ticker.values[0] for b in betas.columns]\n",
    "betas.index = betas.index.to_period('M')\n",
    "betas = betas[(betas.index.year > 2006) & (betas.index.year < 2023)]\n",
    "#Winsorize by year\n",
    "betas = betas.groupby(betas.index.year).apply(lambda x: \n",
    "                      x.stack().clip(lower = x.stack().quantile(0.01), upper = x.stack().quantile(0.99)).unstack())"
   ]
  },
  {
   "cell_type": "code",
   "execution_count": 50,
   "id": "7b004de3",
   "metadata": {},
   "outputs": [],
   "source": [
    "#save the monthly returns, market caps and stocknames\n",
    "save_path = '../data/returns/'\n",
    "#returns_df.to_csv(save_path + 'monthly_returns.csv.gz')\n",
    "#market_caps_df.to_csv(save_path + 'monthly_mkt_caps.csv.gz')\n",
    "#stocknames.to_csv('../data/stocknames.csv.gz',index = False)\n",
    "book_value.to_csv(save_path + 'book_values.csv.gz')\n",
    "total_assets.to_csv(save_path + 'firm_sizes.csv.gz')\n",
    "ROA.to_csv(save_path+'ROA.csv.gz')\n",
    "firm_age.to_csv(save_path+'firm_ages.csv.gz')\n",
    "TobinQ.to_csv(save_path+'TobinsQ.csv.gz')\n",
    "book_to_market.to_csv(save_path+'book_to_market.csv.gz')\n",
    "betas.to_csv(save_path+'mkt_betas.csv.gz')\n",
    "intangibles_to_assets.to_csv(save_path+'intangibles_to_assets.csv.gz')"
   ]
  },
  {
   "cell_type": "code",
   "execution_count": 125,
   "id": "dc4b1e0c",
   "metadata": {},
   "outputs": [],
   "source": [
    "# more financial ratios \n",
    "\n",
    "# debt_assets: debt to assets\n",
    "# roe: return on equity\n",
    "# ps: price to sales                                             NEM\n",
    "# npm: net profit margin                                         NEM   \n",
    "# pe_exi: price to earnings\n",
    "# at_turn: asset turnover\n",
    "# cash_ratio: cash+short-term inv to current liabilities\n",
    "# gpm: gross profit margin \n",
    "# cfm: cash flow margin                                          NEM\n",
    "# sale_invcap: sales per dollar of invested capital\n",
    "# capital_ratio: capitalization ratio\n",
    "# RD_SALE: R&D expenses as a fraction of sales\n",
    "# roce: return on capital employedinvc\n",
    "\n",
    "ratios = db.get_table(library='wrdsapps_finratio', table='firm_ratio',\n",
    "                      columns = ['gvkey','public_date','debt_assets','roe', 'pe_exi', 'gpm',\n",
    "                                 'at_turn', 'cash_ratio', 'sale_invcap', 'capital_ratio','RD_SALE','roce'])\n",
    "#rename the columns\n",
    "ratios.columns = ['gvkey','date','debt2assets','ROE','price2earnings','profit_margin','asset_turnover',\n",
    "                  'cash_ratio','sales2invested_cap','capital_ratio','r&d2sales','ROCE']\n",
    "#set the date\n",
    "#ratios = ratios.rename(columns = {'public_date':'date'})\n",
    "ratios.date = pd.to_datetime(ratios.date)\n",
    "ratios.set_index('date',inplace = True)\n",
    "ratios = ratios.to_period('M').reset_index()\n",
    "ratios = ratios[ratios.date.dt.year > 2006]\n",
    "# limit to stocks from 'stocknames'\n",
    "ratios = ratios[ratios.gvkey.isin(stocknames.gvkey)]\n",
    "# add the ticker\n",
    "ratios = ratios.merge(stocknames[['gvkey','ticker']]).drop('gvkey', axis = 1)\n",
    "# set the index to be date and ticker\n",
    "ratios.set_index(['date','ticker'], inplace = True)\n",
    "ratios = ratios.sort_index()\n",
    "\n",
    "#Winsorize by year\n",
    "for year in ratios.index.levels[0].year.unique():\n",
    "    ratios[ratios.index.get_level_values(0).year == year] = \\\n",
    "                ratios[ratios.index.get_level_values(0).year == year].apply(lambda x: \n",
    "                x.clip(lower = x.quantile(0.01), upper = x.quantile(0.99)))\n",
    "    \n",
    "# save the ratios\n",
    "save_path = '../data/returns/'\n",
    "ratios.to_csv(save_path+'fin_ratios.csv.gz')"
   ]
  },
  {
   "cell_type": "code",
   "execution_count": 85,
   "id": "24680eb0",
   "metadata": {},
   "outputs": [],
   "source": [
    "db.close()"
   ]
  }
 ],
 "metadata": {
  "kernelspec": {
   "display_name": "Python 3 (ipykernel)",
   "language": "python",
   "name": "python3"
  },
  "language_info": {
   "codemirror_mode": {
    "name": "ipython",
    "version": 3
   },
   "file_extension": ".py",
   "mimetype": "text/x-python",
   "name": "python",
   "nbconvert_exporter": "python",
   "pygments_lexer": "ipython3",
   "version": "3.9.13"
  }
 },
 "nbformat": 4,
 "nbformat_minor": 5
}
